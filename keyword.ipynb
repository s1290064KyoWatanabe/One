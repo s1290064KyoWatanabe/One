{
  "nbformat": 4,
  "nbformat_minor": 0,
  "metadata": {
    "colab": {
      "provenance": [],
      "authorship_tag": "ABX9TyNECam27QoOAlcN8Nh3vl0C",
      "include_colab_link": true
    },
    "kernelspec": {
      "name": "python3",
      "display_name": "Python 3"
    },
    "language_info": {
      "name": "python"
    }
  },
  "cells": [
    {
      "cell_type": "markdown",
      "metadata": {
        "id": "view-in-github",
        "colab_type": "text"
      },
      "source": [
        "<a href=\"https://colab.research.google.com/github/s1290064KyoWatanabe/One/blob/main/keyword.ipynb\" target=\"_parent\"><img src=\"https://colab.research.google.com/assets/colab-badge.svg\" alt=\"Open In Colab\"/></a>"
      ]
    },
    {
      "cell_type": "code",
      "source": [
        "import sys\n",
        "sys.path.append('/content/drive/MyDrive/ExpertSystem/')\n",
        "\n",
        "import nltk\n",
        "from nltk.corpus import webtext\n",
        "import collections\n",
        "\n",
        "def makelist(Q):\n",
        "  with open(Q,'r') as f:\n",
        "    text=f.read()\n",
        "    words = text.split()\n",
        "    word_count=collections.Counter(words)\n",
        "  with open(Q + '.wordlist','+w') as f:\n",
        "    list=[]\n",
        "    for word,count in word_count.most_common():\n",
        "      list.append(word)\n",
        "    return list\n",
        "\n",
        "def corpuslist():\n",
        "  with open('corpus.wordlist', '+w') as f:\n",
        "    list = []\n",
        "    fileids = webtext.fileids()\n",
        "    for i in range(10000):\n",
        "      list.append(webtext.words(fileids)[i])\n",
        "\n",
        "    word_count=collections.Counter(list)\n",
        "    clist = []\n",
        "    for word, count in word_count.most_common(7000):\n",
        "      f.write(word)\n",
        "      f.write(\" \")\n",
        "      f.write(str(count))\n",
        "      f.write(\"\\n\")\n",
        "      clist.append(word)\n",
        "  return clist\n",
        "\n",
        "def plist(C, Q):\n",
        "  list = []\n",
        "  for word in Q:\n",
        "    for cword in C:\n",
        "      if word == cword:\n",
        "        break\n",
        "    list.append(word)\n",
        "  return list\n",
        "\n",
        "def score(list1, list2):\n",
        "  point = 0\n",
        "  for word1 in list1:\n",
        "    for word2 in list2:\n",
        "      if word1 == word2:\n",
        "        point += 1\n",
        "        break\n",
        "  return point\n",
        "\n",
        "\n",
        "def main(Q, K1, K2):\n",
        "  w1 = makelist(Q)\n",
        "  w2 = makelist(K1)\n",
        "  w3 = makelist(K2)\n",
        "\n",
        "  point1 = 0\n",
        "  point2 = 0\n",
        "\n",
        "  clist = corpuslist()\n",
        "\n",
        "  P_w1 = plist(clist, w1)\n",
        "  P_w2 = plist(clist, w2)\n",
        "  P_w3 = plist(clist, w3)\n",
        "\n",
        "  point1 = score(P_w1, P_w2)\n",
        "  point2 = score(P_w1, P_w3)\n",
        "\n",
        "  print(f\"K1 point is {point1}\")\n",
        "  print(f\"K2 point is {point2}\")\n",
        "\n",
        "  if point1 > point2:\n",
        "    print(\"K1 is near Q\")\n",
        "    return 0\n",
        "  else:\n",
        "    print(\"K2 is near Q\")\n",
        "    return 1\n",
        "\n",
        "def test():\n",
        "  print(\"colled\")\n",
        "\n"
      ],
      "metadata": {
        "id": "r8S6B9uXhMc4",
        "colab": {
          "base_uri": "https://localhost:8080/",
          "height": 217
        },
        "outputId": "71a4c55d-78c6-4f05-ecc3-6b5da01655af"
      },
      "execution_count": null,
      "outputs": [
        {
          "output_type": "error",
          "ename": "TypeError",
          "evalue": "ignored",
          "traceback": [
            "\u001b[0;31m---------------------------------------------------------------------------\u001b[0m",
            "\u001b[0;31mTypeError\u001b[0m                                 Traceback (most recent call last)",
            "\u001b[0;32m<ipython-input-1-759bdbf8c1c2>\u001b[0m in \u001b[0;36m<cell line: 82>\u001b[0;34m()\u001b[0m\n\u001b[1;32m     81\u001b[0m \u001b[0;34m\u001b[0m\u001b[0m\n\u001b[1;32m     82\u001b[0m \u001b[0;32mif\u001b[0m \u001b[0m__name__\u001b[0m\u001b[0;34m==\u001b[0m\u001b[0;34m\"__main__\"\u001b[0m\u001b[0;34m:\u001b[0m\u001b[0;34m\u001b[0m\u001b[0;34m\u001b[0m\u001b[0m\n\u001b[0;32m---> 83\u001b[0;31m    \u001b[0mmain\u001b[0m\u001b[0;34m(\u001b[0m\u001b[0;34m)\u001b[0m\u001b[0;34m\u001b[0m\u001b[0;34m\u001b[0m\u001b[0m\n\u001b[0m\u001b[1;32m     84\u001b[0m \u001b[0;34m\u001b[0m\u001b[0m\n",
            "\u001b[0;31mTypeError\u001b[0m: main() missing 3 required positional arguments: 'Q', 'K1', and 'K2'"
          ]
        }
      ]
    }
  ]
}