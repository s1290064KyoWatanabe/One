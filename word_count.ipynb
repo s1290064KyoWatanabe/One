{
  "nbformat": 4,
  "nbformat_minor": 0,
  "metadata": {
    "colab": {
      "provenance": [],
      "include_colab_link": true
    },
    "kernelspec": {
      "name": "python3",
      "display_name": "Python 3"
    },
    "language_info": {
      "name": "python"
    }
  },
  "cells": [
    {
      "cell_type": "markdown",
      "metadata": {
        "id": "view-in-github",
        "colab_type": "text"
      },
      "source": [
        "<a href=\"https://colab.research.google.com/github/s1290064KyoWatanabe/One/blob/main/word_count.ipynb\" target=\"_parent\"><img src=\"https://colab.research.google.com/assets/colab-badge.svg\" alt=\"Open In Colab\"/></a>"
      ]
    },
    {
      "cell_type": "code",
      "source": [
        "#frequency\n",
        "import sys\n",
        "sys.path.append('/content/drive/MyDrive/ExpertSystem/')\n",
        "\n",
        "import collections\n",
        "\n",
        "def count_words(Q):\n",
        "  with open(Q,'r') as f:\n",
        "    text=f.read()\n",
        "    words = text.split()\n",
        "    word_count=collections.Counter(words)\n",
        "  with open(Q + '.wordlist','+w') as f:\n",
        "    i=0\n",
        "    list=[]\n",
        "    for word,count in word_count.most_common(20):\n",
        "      f.write(word)\n",
        "      f.write(\" \")\n",
        "      f.write(str(count))\n",
        "      f.write(\"\\n\")\n",
        "      list.append(word)\n",
        "    return list\n",
        "\n",
        "def score(i, w1, w2):\n",
        "  for j in range(20):\n",
        "    if w1[i] == w2[j]:\n",
        "      return abs((i+1) - (j+1))\n",
        "  return abs(20)\n",
        "\n",
        "\n",
        "def main(Q, K1, K2):\n",
        "  w1 = count_words(Q)\n",
        "  w2 = count_words(K1)\n",
        "  w3 = count_words(K2)\n",
        "\n",
        "  point1 = 0\n",
        "  point2 = 0\n",
        "\n",
        "  for i in range(20):\n",
        "    p = score(i, w1, w2)\n",
        "    point1 += p\n",
        "\n",
        "  for i in range(20):\n",
        "    p = score(i, w1, w3)\n",
        "    point2 += p\n",
        "\n",
        "  print(f\"K1 point is {point1}\")\n",
        "  print(f\"K2 point is {point2}\")\n",
        "\n",
        "  if point1 < point2:\n",
        "    print(\"K1 is near Q\")\n",
        "    return 0\n",
        "  else:\n",
        "    print(\"K2 is near Q\")\n",
        "    return 1\n",
        "\n",
        "if __name__==\"__main__\":\n",
        "   main()"
      ],
      "metadata": {
        "id": "r1SUJZ8Zw7_C"
      },
      "execution_count": null,
      "outputs": []
    }
  ]
}